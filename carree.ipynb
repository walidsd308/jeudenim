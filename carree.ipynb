{
 "cells": [
  {
   "cell_type": "code",
   "execution_count": 1,
   "metadata": {},
   "outputs": [],
   "source": [
    "def is_prime(x):\n",
    "    isprime=True\n",
    "\n",
    "    if x!=2:\n",
    "        for i in range (2, int(x**(1/2)+1)):\n",
    "            if x%i==0:\n",
    "                isprime=False\n",
    "                break\n",
    "\n",
    "    return isprime"
   ]
  },
  {
   "cell_type": "markdown",
   "metadata": {},
   "source": [
    "La fonction is_prime(x) prend un entier pour input et retourne True si il est premier et False dans le cas contraire. Ce-ci est déterminer en divisant x sur tout les nombres plus petit que ça racine carré. 1 est considéré premier simplement parce que cela ne pose aucun problème par la suite, nous économisons donc une condition. "
   ]
  },
  {
   "cell_type": "code",
   "execution_count": 2,
   "metadata": {},
   "outputs": [],
   "source": [
    "def get_primes(start, stop):\n",
    "    ensemble = set()\n",
    "    \n",
    "    for i in range(start, stop+1):\n",
    "        if is_prime(i):\n",
    "            ensemble.add(i)\n",
    "    \n",
    "    return ensemble"
   ]
  },
  {
   "cell_type": "markdown",
   "metadata": {},
   "source": [
    "Retourne tout les nombres premiers dans un interval donné en faisons appel à la fonction is_prime(). Elle retourne ces nombres dans un objet set()."
   ]
  },
  {
   "cell_type": "code",
   "execution_count": 3,
   "metadata": {},
   "outputs": [],
   "source": [
    "def C(a, b):\n",
    "    # vérification des condition élémentaire pour le bon déroulement de l'algorithme\n",
    "    if b < 1 or b < a :\n",
    "        print('Interval non valide')\n",
    "        return\n",
    "\n",
    "    if a < 1 :\n",
    "        a = 1\n",
    "        print(f\"Interval non valide, on excecutera sur l'interval {a, b} \")\n",
    "        \n",
    "    \n",
    "    # initialisition de l'interval dans un objet set()\n",
    "    s = set( range(a, b+1) )\n",
    "    \n",
    "    # triage basique des élément de l'interval\n",
    "    \n",
    "    # 1. si a < b/2 alors tous les nombre premier dans l'interval (b//2+1, b) n'ont aucun multiple dans (a,b)\n",
    "    # autre qu'eux meme, ils sont donc éliminés.\n",
    "    if a < b/2 :\n",
    "        s -= get_primes(b//2+1, b)\n",
    "\n",
    "    # dans le cas contraire, il faudra non seulement éliminer les nombre premier dans tout l'interval (a+1, b)\n",
    "    # mais aussi tous les multiples de ceux dans l'intraval (b-a+1, a) cas ils sont eux aussi uniques.\n",
    "    else :\n",
    "        s -= get_primes(a+1, b)\n",
    "            \n",
    "        for k in get_primes(b-a+1, a) :\n",
    "            u = k*(b//k) \n",
    "            s -= set(u) if u**(1/2)%1 == 0 else set()\n",
    "    \n",
    "    # s est transformer en liste\n",
    "    s = list(s)\n",
    "    x, c = len(s), 0\n",
    "    \n",
    "    # cela nous permet de parcours tout les élément de la powerset de s une seule fois, et donc tester\n",
    "    # toute les conbinaison possible sans répétition\n",
    "    for i in range(1, 1 << x):\n",
    "        A = [ s[j] for j in range(x) if (i & (1 << j)) ]\n",
    "        \n",
    "        # on multiplie tout les éléments de l'ensemble a teste et test si c'est un carré parfais \n",
    "        product = 1\n",
    "        for n in A :\n",
    "            product *= n\n",
    "\n",
    "        # si oui on ajoute 1 au conteur\n",
    "        if product**(1/2)%1 == 0 :\n",
    "            c += 1\n",
    "    \n",
    "    # on retourne le conteur\n",
    "    return c"
   ]
  },
  {
   "cell_type": "code",
   "execution_count": 4,
   "metadata": {},
   "outputs": [
    {
     "name": "stdout",
     "output_type": "stream",
     "text": [
      "nombre de carrés parfais formés par les éléments de l'interval fourni = 15\n"
     ]
    }
   ],
   "source": [
    "print( f\"nombre de carrés parfais formés par les éléments de l'interval fourni = {C(40,55)}\" )"
   ]
  }
 ],
 "metadata": {
  "kernelspec": {
   "display_name": "Python 3",
   "language": "python",
   "name": "python3"
  },
  "language_info": {
   "codemirror_mode": {
    "name": "ipython",
    "version": 3
   },
   "file_extension": ".py",
   "mimetype": "text/x-python",
   "name": "python",
   "nbconvert_exporter": "python",
   "pygments_lexer": "ipython3",
   "version": "3.6.4"
  }
 },
 "nbformat": 4,
 "nbformat_minor": 2
}